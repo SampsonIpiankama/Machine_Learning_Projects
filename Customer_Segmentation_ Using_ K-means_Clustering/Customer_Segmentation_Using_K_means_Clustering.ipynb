{
  "nbformat": 4,
  "nbformat_minor": 0,
  "metadata": {
    "colab": {
      "name": "Customer Segmentation Using K-means Clustering.ipynb",
      "provenance": [],
      "collapsed_sections": []
    },
    "kernelspec": {
      "name": "python3",
      "display_name": "Python 3"
    },
    "language_info": {
      "name": "python"
    }
  },
  "cells": [
    {
      "cell_type": "markdown",
      "source": [
        "# **CUSTOMER SEGMENTATION USING K-MEANS CLUSTERING**"
      ],
      "metadata": {
        "id": "yQEAVTwrVHUK"
      }
    },
    {
      "cell_type": "markdown",
      "source": [
        "### **Author**: Sampson Chinonso Ipiankama"
      ],
      "metadata": {
        "id": "soRtBX_Nm7Mw"
      }
    },
    {
      "cell_type": "markdown",
      "source": [
        "### **Industry Focus:** Retail\n",
        "\n",
        "### **Problem Statement:** A retail store wants to get insights about its customers. And then build a system that can cluster customers into different groups.\n",
        "\n",
        "### **Goals:** To customize market programs that will be suitable for each of its customer segments. To also raise further market research questions as well as providing directions to finding the solutions"
      ],
      "metadata": {
        "id": "wPRiAk6-VzlU"
      }
    },
    {
      "cell_type": "markdown",
      "source": [
        "## Libraries"
      ],
      "metadata": {
        "id": "_h_W6eITfcpz"
      }
    },
    {
      "cell_type": "code",
      "execution_count": 26,
      "metadata": {
        "id": "ihSiE5BTU4Nf"
      },
      "outputs": [],
      "source": [
        "import numpy as np\n",
        "import pandas as pd\n",
        "from matplotlib import pyplot as plt\n",
        "import seaborn as sns \n",
        "from sklearn.cluster import KMeans\n",
        "from sklearn.preprocessing import MinMaxScaler\n"
      ]
    },
    {
      "cell_type": "markdown",
      "source": [
        "## Import Dataset"
      ],
      "metadata": {
        "id": "-kXmdEq8gsno"
      }
    },
    {
      "cell_type": "code",
      "source": [
        "df= pd.read_csv('/content/Customers.csv', index_col = 0) #loads the csv file into a pandas dataframe"
      ],
      "metadata": {
        "id": "6NS4oNjigqck"
      },
      "execution_count": 27,
      "outputs": []
    },
    {
      "cell_type": "markdown",
      "source": [
        "## Exploratory Data Analysis"
      ],
      "metadata": {
        "id": "noz0cdYvhAHy"
      }
    },
    {
      "cell_type": "code",
      "source": [
        "df.head() #returns the first 5 rows"
      ],
      "metadata": {
        "colab": {
          "base_uri": "https://localhost:8080/",
          "height": 237
        },
        "id": "HBJP-uWyhJ9h",
        "outputId": "3cfe2a30-9ed7-4aab-c3fa-0966a1600112"
      },
      "execution_count": null,
      "outputs": [
        {
          "output_type": "execute_result",
          "data": {
            "text/plain": [
              "             Genre  Age  Annual Income (k$)  Spending Score (1-100)\n",
              "CustomerID                                                         \n",
              "1             Male   19                  15                      39\n",
              "2             Male   21                  15                      81\n",
              "3           Female   20                  16                       6\n",
              "4           Female   23                  16                      77\n",
              "5           Female   31                  17                      40"
            ],
            "text/html": [
              "\n",
              "  <div id=\"df-7644c11f-7b9a-43bc-abb0-389b11d712a1\">\n",
              "    <div class=\"colab-df-container\">\n",
              "      <div>\n",
              "<style scoped>\n",
              "    .dataframe tbody tr th:only-of-type {\n",
              "        vertical-align: middle;\n",
              "    }\n",
              "\n",
              "    .dataframe tbody tr th {\n",
              "        vertical-align: top;\n",
              "    }\n",
              "\n",
              "    .dataframe thead th {\n",
              "        text-align: right;\n",
              "    }\n",
              "</style>\n",
              "<table border=\"1\" class=\"dataframe\">\n",
              "  <thead>\n",
              "    <tr style=\"text-align: right;\">\n",
              "      <th></th>\n",
              "      <th>Genre</th>\n",
              "      <th>Age</th>\n",
              "      <th>Annual Income (k$)</th>\n",
              "      <th>Spending Score (1-100)</th>\n",
              "    </tr>\n",
              "    <tr>\n",
              "      <th>CustomerID</th>\n",
              "      <th></th>\n",
              "      <th></th>\n",
              "      <th></th>\n",
              "      <th></th>\n",
              "    </tr>\n",
              "  </thead>\n",
              "  <tbody>\n",
              "    <tr>\n",
              "      <th>1</th>\n",
              "      <td>Male</td>\n",
              "      <td>19</td>\n",
              "      <td>15</td>\n",
              "      <td>39</td>\n",
              "    </tr>\n",
              "    <tr>\n",
              "      <th>2</th>\n",
              "      <td>Male</td>\n",
              "      <td>21</td>\n",
              "      <td>15</td>\n",
              "      <td>81</td>\n",
              "    </tr>\n",
              "    <tr>\n",
              "      <th>3</th>\n",
              "      <td>Female</td>\n",
              "      <td>20</td>\n",
              "      <td>16</td>\n",
              "      <td>6</td>\n",
              "    </tr>\n",
              "    <tr>\n",
              "      <th>4</th>\n",
              "      <td>Female</td>\n",
              "      <td>23</td>\n",
              "      <td>16</td>\n",
              "      <td>77</td>\n",
              "    </tr>\n",
              "    <tr>\n",
              "      <th>5</th>\n",
              "      <td>Female</td>\n",
              "      <td>31</td>\n",
              "      <td>17</td>\n",
              "      <td>40</td>\n",
              "    </tr>\n",
              "  </tbody>\n",
              "</table>\n",
              "</div>\n",
              "      <button class=\"colab-df-convert\" onclick=\"convertToInteractive('df-7644c11f-7b9a-43bc-abb0-389b11d712a1')\"\n",
              "              title=\"Convert this dataframe to an interactive table.\"\n",
              "              style=\"display:none;\">\n",
              "        \n",
              "  <svg xmlns=\"http://www.w3.org/2000/svg\" height=\"24px\"viewBox=\"0 0 24 24\"\n",
              "       width=\"24px\">\n",
              "    <path d=\"M0 0h24v24H0V0z\" fill=\"none\"/>\n",
              "    <path d=\"M18.56 5.44l.94 2.06.94-2.06 2.06-.94-2.06-.94-.94-2.06-.94 2.06-2.06.94zm-11 1L8.5 8.5l.94-2.06 2.06-.94-2.06-.94L8.5 2.5l-.94 2.06-2.06.94zm10 10l.94 2.06.94-2.06 2.06-.94-2.06-.94-.94-2.06-.94 2.06-2.06.94z\"/><path d=\"M17.41 7.96l-1.37-1.37c-.4-.4-.92-.59-1.43-.59-.52 0-1.04.2-1.43.59L10.3 9.45l-7.72 7.72c-.78.78-.78 2.05 0 2.83L4 21.41c.39.39.9.59 1.41.59.51 0 1.02-.2 1.41-.59l7.78-7.78 2.81-2.81c.8-.78.8-2.07 0-2.86zM5.41 20L4 18.59l7.72-7.72 1.47 1.35L5.41 20z\"/>\n",
              "  </svg>\n",
              "      </button>\n",
              "      \n",
              "  <style>\n",
              "    .colab-df-container {\n",
              "      display:flex;\n",
              "      flex-wrap:wrap;\n",
              "      gap: 12px;\n",
              "    }\n",
              "\n",
              "    .colab-df-convert {\n",
              "      background-color: #E8F0FE;\n",
              "      border: none;\n",
              "      border-radius: 50%;\n",
              "      cursor: pointer;\n",
              "      display: none;\n",
              "      fill: #1967D2;\n",
              "      height: 32px;\n",
              "      padding: 0 0 0 0;\n",
              "      width: 32px;\n",
              "    }\n",
              "\n",
              "    .colab-df-convert:hover {\n",
              "      background-color: #E2EBFA;\n",
              "      box-shadow: 0px 1px 2px rgba(60, 64, 67, 0.3), 0px 1px 3px 1px rgba(60, 64, 67, 0.15);\n",
              "      fill: #174EA6;\n",
              "    }\n",
              "\n",
              "    [theme=dark] .colab-df-convert {\n",
              "      background-color: #3B4455;\n",
              "      fill: #D2E3FC;\n",
              "    }\n",
              "\n",
              "    [theme=dark] .colab-df-convert:hover {\n",
              "      background-color: #434B5C;\n",
              "      box-shadow: 0px 1px 3px 1px rgba(0, 0, 0, 0.15);\n",
              "      filter: drop-shadow(0px 1px 2px rgba(0, 0, 0, 0.3));\n",
              "      fill: #FFFFFF;\n",
              "    }\n",
              "  </style>\n",
              "\n",
              "      <script>\n",
              "        const buttonEl =\n",
              "          document.querySelector('#df-7644c11f-7b9a-43bc-abb0-389b11d712a1 button.colab-df-convert');\n",
              "        buttonEl.style.display =\n",
              "          google.colab.kernel.accessAllowed ? 'block' : 'none';\n",
              "\n",
              "        async function convertToInteractive(key) {\n",
              "          const element = document.querySelector('#df-7644c11f-7b9a-43bc-abb0-389b11d712a1');\n",
              "          const dataTable =\n",
              "            await google.colab.kernel.invokeFunction('convertToInteractive',\n",
              "                                                     [key], {});\n",
              "          if (!dataTable) return;\n",
              "\n",
              "          const docLinkHtml = 'Like what you see? Visit the ' +\n",
              "            '<a target=\"_blank\" href=https://colab.research.google.com/notebooks/data_table.ipynb>data table notebook</a>'\n",
              "            + ' to learn more about interactive tables.';\n",
              "          element.innerHTML = '';\n",
              "          dataTable['output_type'] = 'display_data';\n",
              "          await google.colab.output.renderOutput(dataTable, element);\n",
              "          const docLink = document.createElement('div');\n",
              "          docLink.innerHTML = docLinkHtml;\n",
              "          element.appendChild(docLink);\n",
              "        }\n",
              "      </script>\n",
              "    </div>\n",
              "  </div>\n",
              "  "
            ]
          },
          "metadata": {},
          "execution_count": 6
        }
      ]
    },
    {
      "cell_type": "code",
      "source": [
        "df.rename(columns= {'Genre': 'Gender'}, inplace = True) #To rename column 2 from Genre to Gender"
      ],
      "metadata": {
        "id": "LpbOm_Pyhv0R"
      },
      "execution_count": null,
      "outputs": []
    },
    {
      "cell_type": "code",
      "source": [
        "df.head() #Checking if the correction has been effected"
      ],
      "metadata": {
        "colab": {
          "base_uri": "https://localhost:8080/",
          "height": 237
        },
        "id": "l5pDYm5YjZvj",
        "outputId": "28555cac-0a42-4218-8ffa-c2feb474ade8"
      },
      "execution_count": null,
      "outputs": [
        {
          "output_type": "execute_result",
          "data": {
            "text/plain": [
              "            Gender  Age  Annual Income (k$)  Spending Score (1-100)\n",
              "CustomerID                                                         \n",
              "1             Male   19                  15                      39\n",
              "2             Male   21                  15                      81\n",
              "3           Female   20                  16                       6\n",
              "4           Female   23                  16                      77\n",
              "5           Female   31                  17                      40"
            ],
            "text/html": [
              "\n",
              "  <div id=\"df-7a7ef8de-a794-4dec-9068-661073000fab\">\n",
              "    <div class=\"colab-df-container\">\n",
              "      <div>\n",
              "<style scoped>\n",
              "    .dataframe tbody tr th:only-of-type {\n",
              "        vertical-align: middle;\n",
              "    }\n",
              "\n",
              "    .dataframe tbody tr th {\n",
              "        vertical-align: top;\n",
              "    }\n",
              "\n",
              "    .dataframe thead th {\n",
              "        text-align: right;\n",
              "    }\n",
              "</style>\n",
              "<table border=\"1\" class=\"dataframe\">\n",
              "  <thead>\n",
              "    <tr style=\"text-align: right;\">\n",
              "      <th></th>\n",
              "      <th>Gender</th>\n",
              "      <th>Age</th>\n",
              "      <th>Annual Income (k$)</th>\n",
              "      <th>Spending Score (1-100)</th>\n",
              "    </tr>\n",
              "    <tr>\n",
              "      <th>CustomerID</th>\n",
              "      <th></th>\n",
              "      <th></th>\n",
              "      <th></th>\n",
              "      <th></th>\n",
              "    </tr>\n",
              "  </thead>\n",
              "  <tbody>\n",
              "    <tr>\n",
              "      <th>1</th>\n",
              "      <td>Male</td>\n",
              "      <td>19</td>\n",
              "      <td>15</td>\n",
              "      <td>39</td>\n",
              "    </tr>\n",
              "    <tr>\n",
              "      <th>2</th>\n",
              "      <td>Male</td>\n",
              "      <td>21</td>\n",
              "      <td>15</td>\n",
              "      <td>81</td>\n",
              "    </tr>\n",
              "    <tr>\n",
              "      <th>3</th>\n",
              "      <td>Female</td>\n",
              "      <td>20</td>\n",
              "      <td>16</td>\n",
              "      <td>6</td>\n",
              "    </tr>\n",
              "    <tr>\n",
              "      <th>4</th>\n",
              "      <td>Female</td>\n",
              "      <td>23</td>\n",
              "      <td>16</td>\n",
              "      <td>77</td>\n",
              "    </tr>\n",
              "    <tr>\n",
              "      <th>5</th>\n",
              "      <td>Female</td>\n",
              "      <td>31</td>\n",
              "      <td>17</td>\n",
              "      <td>40</td>\n",
              "    </tr>\n",
              "  </tbody>\n",
              "</table>\n",
              "</div>\n",
              "      <button class=\"colab-df-convert\" onclick=\"convertToInteractive('df-7a7ef8de-a794-4dec-9068-661073000fab')\"\n",
              "              title=\"Convert this dataframe to an interactive table.\"\n",
              "              style=\"display:none;\">\n",
              "        \n",
              "  <svg xmlns=\"http://www.w3.org/2000/svg\" height=\"24px\"viewBox=\"0 0 24 24\"\n",
              "       width=\"24px\">\n",
              "    <path d=\"M0 0h24v24H0V0z\" fill=\"none\"/>\n",
              "    <path d=\"M18.56 5.44l.94 2.06.94-2.06 2.06-.94-2.06-.94-.94-2.06-.94 2.06-2.06.94zm-11 1L8.5 8.5l.94-2.06 2.06-.94-2.06-.94L8.5 2.5l-.94 2.06-2.06.94zm10 10l.94 2.06.94-2.06 2.06-.94-2.06-.94-.94-2.06-.94 2.06-2.06.94z\"/><path d=\"M17.41 7.96l-1.37-1.37c-.4-.4-.92-.59-1.43-.59-.52 0-1.04.2-1.43.59L10.3 9.45l-7.72 7.72c-.78.78-.78 2.05 0 2.83L4 21.41c.39.39.9.59 1.41.59.51 0 1.02-.2 1.41-.59l7.78-7.78 2.81-2.81c.8-.78.8-2.07 0-2.86zM5.41 20L4 18.59l7.72-7.72 1.47 1.35L5.41 20z\"/>\n",
              "  </svg>\n",
              "      </button>\n",
              "      \n",
              "  <style>\n",
              "    .colab-df-container {\n",
              "      display:flex;\n",
              "      flex-wrap:wrap;\n",
              "      gap: 12px;\n",
              "    }\n",
              "\n",
              "    .colab-df-convert {\n",
              "      background-color: #E8F0FE;\n",
              "      border: none;\n",
              "      border-radius: 50%;\n",
              "      cursor: pointer;\n",
              "      display: none;\n",
              "      fill: #1967D2;\n",
              "      height: 32px;\n",
              "      padding: 0 0 0 0;\n",
              "      width: 32px;\n",
              "    }\n",
              "\n",
              "    .colab-df-convert:hover {\n",
              "      background-color: #E2EBFA;\n",
              "      box-shadow: 0px 1px 2px rgba(60, 64, 67, 0.3), 0px 1px 3px 1px rgba(60, 64, 67, 0.15);\n",
              "      fill: #174EA6;\n",
              "    }\n",
              "\n",
              "    [theme=dark] .colab-df-convert {\n",
              "      background-color: #3B4455;\n",
              "      fill: #D2E3FC;\n",
              "    }\n",
              "\n",
              "    [theme=dark] .colab-df-convert:hover {\n",
              "      background-color: #434B5C;\n",
              "      box-shadow: 0px 1px 3px 1px rgba(0, 0, 0, 0.15);\n",
              "      filter: drop-shadow(0px 1px 2px rgba(0, 0, 0, 0.3));\n",
              "      fill: #FFFFFF;\n",
              "    }\n",
              "  </style>\n",
              "\n",
              "      <script>\n",
              "        const buttonEl =\n",
              "          document.querySelector('#df-7a7ef8de-a794-4dec-9068-661073000fab button.colab-df-convert');\n",
              "        buttonEl.style.display =\n",
              "          google.colab.kernel.accessAllowed ? 'block' : 'none';\n",
              "\n",
              "        async function convertToInteractive(key) {\n",
              "          const element = document.querySelector('#df-7a7ef8de-a794-4dec-9068-661073000fab');\n",
              "          const dataTable =\n",
              "            await google.colab.kernel.invokeFunction('convertToInteractive',\n",
              "                                                     [key], {});\n",
              "          if (!dataTable) return;\n",
              "\n",
              "          const docLinkHtml = 'Like what you see? Visit the ' +\n",
              "            '<a target=\"_blank\" href=https://colab.research.google.com/notebooks/data_table.ipynb>data table notebook</a>'\n",
              "            + ' to learn more about interactive tables.';\n",
              "          element.innerHTML = '';\n",
              "          dataTable['output_type'] = 'display_data';\n",
              "          await google.colab.output.renderOutput(dataTable, element);\n",
              "          const docLink = document.createElement('div');\n",
              "          docLink.innerHTML = docLinkHtml;\n",
              "          element.appendChild(docLink);\n",
              "        }\n",
              "      </script>\n",
              "    </div>\n",
              "  </div>\n",
              "  "
            ]
          },
          "metadata": {},
          "execution_count": 8
        }
      ]
    },
    {
      "cell_type": "markdown",
      "source": [
        "The Gneder column now has the correct spelling."
      ],
      "metadata": {
        "id": "Mg2iYGlHma2N"
      }
    },
    {
      "cell_type": "code",
      "source": [
        "df.shape #retuns the number of rows and columns in the dataset."
      ],
      "metadata": {
        "colab": {
          "base_uri": "https://localhost:8080/"
        },
        "id": "tY0dQYRTkSMk",
        "outputId": "3f94b93c-dc56-4988-a49c-d2b3ee8cd605"
      },
      "execution_count": null,
      "outputs": [
        {
          "output_type": "execute_result",
          "data": {
            "text/plain": [
              "(200, 4)"
            ]
          },
          "metadata": {},
          "execution_count": 9
        }
      ]
    },
    {
      "cell_type": "markdown",
      "source": [
        "There are 200 data points."
      ],
      "metadata": {
        "id": "jWIV1RkKTT9Q"
      }
    },
    {
      "cell_type": "code",
      "source": [
        "df.describe() #returns the descriptive statistics of the dataset."
      ],
      "metadata": {
        "colab": {
          "base_uri": "https://localhost:8080/",
          "height": 300
        },
        "id": "8AKzw4vHkkIm",
        "outputId": "f8318dbd-c77a-4ce1-9836-3631e4b4d4c8"
      },
      "execution_count": null,
      "outputs": [
        {
          "output_type": "execute_result",
          "data": {
            "text/plain": [
              "              Age  Annual Income (k$)  Spending Score (1-100)\n",
              "count  200.000000          200.000000              200.000000\n",
              "mean    38.850000           60.560000               50.200000\n",
              "std     13.969007           26.264721               25.823522\n",
              "min     18.000000           15.000000                1.000000\n",
              "25%     28.750000           41.500000               34.750000\n",
              "50%     36.000000           61.500000               50.000000\n",
              "75%     49.000000           78.000000               73.000000\n",
              "max     70.000000          137.000000               99.000000"
            ],
            "text/html": [
              "\n",
              "  <div id=\"df-ad2a648a-4112-4737-9002-84bcb80527e4\">\n",
              "    <div class=\"colab-df-container\">\n",
              "      <div>\n",
              "<style scoped>\n",
              "    .dataframe tbody tr th:only-of-type {\n",
              "        vertical-align: middle;\n",
              "    }\n",
              "\n",
              "    .dataframe tbody tr th {\n",
              "        vertical-align: top;\n",
              "    }\n",
              "\n",
              "    .dataframe thead th {\n",
              "        text-align: right;\n",
              "    }\n",
              "</style>\n",
              "<table border=\"1\" class=\"dataframe\">\n",
              "  <thead>\n",
              "    <tr style=\"text-align: right;\">\n",
              "      <th></th>\n",
              "      <th>Age</th>\n",
              "      <th>Annual Income (k$)</th>\n",
              "      <th>Spending Score (1-100)</th>\n",
              "    </tr>\n",
              "  </thead>\n",
              "  <tbody>\n",
              "    <tr>\n",
              "      <th>count</th>\n",
              "      <td>200.000000</td>\n",
              "      <td>200.000000</td>\n",
              "      <td>200.000000</td>\n",
              "    </tr>\n",
              "    <tr>\n",
              "      <th>mean</th>\n",
              "      <td>38.850000</td>\n",
              "      <td>60.560000</td>\n",
              "      <td>50.200000</td>\n",
              "    </tr>\n",
              "    <tr>\n",
              "      <th>std</th>\n",
              "      <td>13.969007</td>\n",
              "      <td>26.264721</td>\n",
              "      <td>25.823522</td>\n",
              "    </tr>\n",
              "    <tr>\n",
              "      <th>min</th>\n",
              "      <td>18.000000</td>\n",
              "      <td>15.000000</td>\n",
              "      <td>1.000000</td>\n",
              "    </tr>\n",
              "    <tr>\n",
              "      <th>25%</th>\n",
              "      <td>28.750000</td>\n",
              "      <td>41.500000</td>\n",
              "      <td>34.750000</td>\n",
              "    </tr>\n",
              "    <tr>\n",
              "      <th>50%</th>\n",
              "      <td>36.000000</td>\n",
              "      <td>61.500000</td>\n",
              "      <td>50.000000</td>\n",
              "    </tr>\n",
              "    <tr>\n",
              "      <th>75%</th>\n",
              "      <td>49.000000</td>\n",
              "      <td>78.000000</td>\n",
              "      <td>73.000000</td>\n",
              "    </tr>\n",
              "    <tr>\n",
              "      <th>max</th>\n",
              "      <td>70.000000</td>\n",
              "      <td>137.000000</td>\n",
              "      <td>99.000000</td>\n",
              "    </tr>\n",
              "  </tbody>\n",
              "</table>\n",
              "</div>\n",
              "      <button class=\"colab-df-convert\" onclick=\"convertToInteractive('df-ad2a648a-4112-4737-9002-84bcb80527e4')\"\n",
              "              title=\"Convert this dataframe to an interactive table.\"\n",
              "              style=\"display:none;\">\n",
              "        \n",
              "  <svg xmlns=\"http://www.w3.org/2000/svg\" height=\"24px\"viewBox=\"0 0 24 24\"\n",
              "       width=\"24px\">\n",
              "    <path d=\"M0 0h24v24H0V0z\" fill=\"none\"/>\n",
              "    <path d=\"M18.56 5.44l.94 2.06.94-2.06 2.06-.94-2.06-.94-.94-2.06-.94 2.06-2.06.94zm-11 1L8.5 8.5l.94-2.06 2.06-.94-2.06-.94L8.5 2.5l-.94 2.06-2.06.94zm10 10l.94 2.06.94-2.06 2.06-.94-2.06-.94-.94-2.06-.94 2.06-2.06.94z\"/><path d=\"M17.41 7.96l-1.37-1.37c-.4-.4-.92-.59-1.43-.59-.52 0-1.04.2-1.43.59L10.3 9.45l-7.72 7.72c-.78.78-.78 2.05 0 2.83L4 21.41c.39.39.9.59 1.41.59.51 0 1.02-.2 1.41-.59l7.78-7.78 2.81-2.81c.8-.78.8-2.07 0-2.86zM5.41 20L4 18.59l7.72-7.72 1.47 1.35L5.41 20z\"/>\n",
              "  </svg>\n",
              "      </button>\n",
              "      \n",
              "  <style>\n",
              "    .colab-df-container {\n",
              "      display:flex;\n",
              "      flex-wrap:wrap;\n",
              "      gap: 12px;\n",
              "    }\n",
              "\n",
              "    .colab-df-convert {\n",
              "      background-color: #E8F0FE;\n",
              "      border: none;\n",
              "      border-radius: 50%;\n",
              "      cursor: pointer;\n",
              "      display: none;\n",
              "      fill: #1967D2;\n",
              "      height: 32px;\n",
              "      padding: 0 0 0 0;\n",
              "      width: 32px;\n",
              "    }\n",
              "\n",
              "    .colab-df-convert:hover {\n",
              "      background-color: #E2EBFA;\n",
              "      box-shadow: 0px 1px 2px rgba(60, 64, 67, 0.3), 0px 1px 3px 1px rgba(60, 64, 67, 0.15);\n",
              "      fill: #174EA6;\n",
              "    }\n",
              "\n",
              "    [theme=dark] .colab-df-convert {\n",
              "      background-color: #3B4455;\n",
              "      fill: #D2E3FC;\n",
              "    }\n",
              "\n",
              "    [theme=dark] .colab-df-convert:hover {\n",
              "      background-color: #434B5C;\n",
              "      box-shadow: 0px 1px 3px 1px rgba(0, 0, 0, 0.15);\n",
              "      filter: drop-shadow(0px 1px 2px rgba(0, 0, 0, 0.3));\n",
              "      fill: #FFFFFF;\n",
              "    }\n",
              "  </style>\n",
              "\n",
              "      <script>\n",
              "        const buttonEl =\n",
              "          document.querySelector('#df-ad2a648a-4112-4737-9002-84bcb80527e4 button.colab-df-convert');\n",
              "        buttonEl.style.display =\n",
              "          google.colab.kernel.accessAllowed ? 'block' : 'none';\n",
              "\n",
              "        async function convertToInteractive(key) {\n",
              "          const element = document.querySelector('#df-ad2a648a-4112-4737-9002-84bcb80527e4');\n",
              "          const dataTable =\n",
              "            await google.colab.kernel.invokeFunction('convertToInteractive',\n",
              "                                                     [key], {});\n",
              "          if (!dataTable) return;\n",
              "\n",
              "          const docLinkHtml = 'Like what you see? Visit the ' +\n",
              "            '<a target=\"_blank\" href=https://colab.research.google.com/notebooks/data_table.ipynb>data table notebook</a>'\n",
              "            + ' to learn more about interactive tables.';\n",
              "          element.innerHTML = '';\n",
              "          dataTable['output_type'] = 'display_data';\n",
              "          await google.colab.output.renderOutput(dataTable, element);\n",
              "          const docLink = document.createElement('div');\n",
              "          docLink.innerHTML = docLinkHtml;\n",
              "          element.appendChild(docLink);\n",
              "        }\n",
              "      </script>\n",
              "    </div>\n",
              "  </div>\n",
              "  "
            ]
          },
          "metadata": {},
          "execution_count": 10
        }
      ]
    },
    {
      "cell_type": "code",
      "source": [
        "df.dtypes #returns the data types of the variables"
      ],
      "metadata": {
        "colab": {
          "base_uri": "https://localhost:8080/"
        },
        "id": "xnicvGM3k1zV",
        "outputId": "5578f15a-9ed5-429b-b1d2-26ecdb25a39a"
      },
      "execution_count": null,
      "outputs": [
        {
          "output_type": "execute_result",
          "data": {
            "text/plain": [
              "Gender                    object\n",
              "Age                        int64\n",
              "Annual Income (k$)         int64\n",
              "Spending Score (1-100)     int64\n",
              "dtype: object"
            ]
          },
          "metadata": {},
          "execution_count": 11
        }
      ]
    },
    {
      "cell_type": "code",
      "source": [
        "df.isnull().sum() #returns the number of missing values"
      ],
      "metadata": {
        "colab": {
          "base_uri": "https://localhost:8080/"
        },
        "id": "tC8IXpNOlMYb",
        "outputId": "fe86e6bb-81e7-466d-c22a-6a297a66cbac"
      },
      "execution_count": null,
      "outputs": [
        {
          "output_type": "execute_result",
          "data": {
            "text/plain": [
              "Gender                    0\n",
              "Age                       0\n",
              "Annual Income (k$)        0\n",
              "Spending Score (1-100)    0\n",
              "dtype: int64"
            ]
          },
          "metadata": {},
          "execution_count": 12
        }
      ]
    },
    {
      "cell_type": "markdown",
      "source": [
        "The output result shows that there are no missing values"
      ],
      "metadata": {
        "id": "i7NYM7KxljYW"
      }
    },
    {
      "cell_type": "code",
      "source": [
        "df.duplicated() #Checking for duplicate values."
      ],
      "metadata": {
        "colab": {
          "base_uri": "https://localhost:8080/"
        },
        "id": "Px1Qw0JUlgRn",
        "outputId": "c7c85661-d4f6-46af-ce05-6f41cf4058f4"
      },
      "execution_count": null,
      "outputs": [
        {
          "output_type": "execute_result",
          "data": {
            "text/plain": [
              "CustomerID\n",
              "1      False\n",
              "2      False\n",
              "3      False\n",
              "4      False\n",
              "5      False\n",
              "       ...  \n",
              "196    False\n",
              "197    False\n",
              "198    False\n",
              "199    False\n",
              "200    False\n",
              "Length: 200, dtype: bool"
            ]
          },
          "metadata": {},
          "execution_count": 13
        }
      ]
    },
    {
      "cell_type": "markdown",
      "source": [
        "There are no missing values."
      ],
      "metadata": {
        "id": "F37pFCqvnOI1"
      }
    },
    {
      "cell_type": "markdown",
      "source": [
        "# Data Visualization"
      ],
      "metadata": {
        "id": "FdBzLnMmnZA2"
      }
    },
    {
      "cell_type": "markdown",
      "source": [
        "## Create a Scatterplot between Annual Income (k$) and Spending Score (1-100)"
      ],
      "metadata": {
        "id": "bPgVNw9goWe3"
      }
    },
    {
      "cell_type": "code",
      "source": [
        "sns.set_style('dark')\n",
        "sns.scatterplot(x = 'Annual Income (k$)', y = 'Spending Score (1-100)', data = df)\n",
        "plt.xlabel('Annual Income (k$)')\n",
        "plt.ylabel('Spending Score (1-100)')\n",
        "plt.title('Scatterplot Between Annual Income (k$) and Spending Score (1-100)')"
      ],
      "metadata": {
        "colab": {
          "base_uri": "https://localhost:8080/",
          "height": 312
        },
        "id": "6Ns8Ytv4ppoC",
        "outputId": "6a4fc003-bc72-4d1b-e1a3-74981ce54e1c"
      },
      "execution_count": null,
      "outputs": [
        {
          "output_type": "execute_result",
          "data": {
            "text/plain": [
              "Text(0.5, 1.0, 'Scatterplot Between Annual Income (k$) and Spending Score (1-100)')"
            ]
          },
          "metadata": {},
          "execution_count": 15
        },
        {
          "output_type": "display_data",
          "data": {
            "text/plain": [
              "<Figure size 432x288 with 1 Axes>"
            ],
            "image/png": "[encoded data removed]"
          },
          "metadata": {}
        }
      ]
    },
    {
      "cell_type": "markdown",
      "source": [
        "The scatterplot shows that there's some relationship between coustomers whose annual income lies between 40k - $60k.These customers have a typical spending score which lies between 40 -60. "
      ],
      "metadata": {
        "id": "6nQRFwmMyflT"
      }
    },
    {
      "cell_type": "markdown",
      "source": [
        "## Feature Selection"
      ],
      "metadata": {
        "id": "HsIsk9zj26y8"
      }
    },
    {
      "cell_type": "code",
      "source": [
        "X = df.loc[:,['Annual Income (k$)','Spending Score (1-100)']].values"
      ],
      "metadata": {
        "id": "t_9pMBPP24Q-"
      },
      "execution_count": null,
      "outputs": []
    },
    {
      "cell_type": "markdown",
      "source": [
        "## Feature Normalization"
      ],
      "metadata": {
        "id": "IkqkUedIzZ00"
      }
    },
    {
      "cell_type": "markdown",
      "source": [
        "Feature normalisation \n",
        "helps to adjust all the data elements to a common scale in \n",
        "order to improve the performance of the clustering algorithm. \n",
        "Each data point is converted to the range of 0 to +1. \n",
        "Normalisation techniques include Min-max, decimal scaling \n",
        "and z-score. The MinMaxScaler normalisation technique was used to \n",
        "normalise the features before running the k-Means algorithm \n",
        "on the dataset."
      ],
      "metadata": {
        "id": "QAefA5a7zybG"
      }
    },
    {
      "cell_type": "code",
      "source": [
        "scaler = MinMaxScaler().fit(X) #It makes an object of the MinMaxScaler and then we fit it on our variable X. \n",
        "print(scaler)"
      ],
      "metadata": {
        "colab": {
          "base_uri": "https://localhost:8080/"
        },
        "id": "yga7N7P8zB4T",
        "outputId": "d687f961-2d1c-48c0-e3f9-8cb2e9e5b235"
      },
      "execution_count": null,
      "outputs": [
        {
          "output_type": "stream",
          "name": "stdout",
          "text": [
            "MinMaxScaler()\n"
          ]
        }
      ]
    },
    {
      "cell_type": "markdown",
      "source": [
        "The output shows that it is an object of MinMaxScaler. And we have just fitted the our MinMaxScaler on our X variable. Note that we have not applied the transformation yet."
      ],
      "metadata": {
        "id": "9VVH4FUs37Ss"
      }
    },
    {
      "cell_type": "code",
      "source": [
        "scaler.feature_range"
      ],
      "metadata": {
        "colab": {
          "base_uri": "https://localhost:8080/"
        },
        "id": "UzA1jmZT4qC0",
        "outputId": "ca874cd9-300a-427a-8817-5d68d7932634"
      },
      "execution_count": null,
      "outputs": [
        {
          "output_type": "execute_result",
          "data": {
            "text/plain": [
              "(0, 1)"
            ]
          },
          "metadata": {},
          "execution_count": 18
        }
      ]
    },
    {
      "cell_type": "markdown",
      "source": [
        "The range is between 0 and 1. When we apply the transform function all the Annual Income (k$) and Spending Score the all the values will lie between 0 and 1. No value will be less than 0 and greater than 1.  "
      ],
      "metadata": {
        "id": "IhwcB39748L6"
      }
    },
    {
      "cell_type": "code",
      "source": [
        "scaler.transform(X) "
      ],
      "metadata": {
        "colab": {
          "base_uri": "https://localhost:8080/"
        },
        "id": "PYOr8dno5FzD",
        "outputId": "24343677-df19-4d93-9f46-695825ea162b"
      },
      "execution_count": null,
      "outputs": [
        {
          "output_type": "execute_result",
          "data": {
            "text/plain": [
              "array([[0.        , 0.3877551 ],\n",
              "       [0.        , 0.81632653],\n",
              "       [0.00819672, 0.05102041],\n",
              "       [0.00819672, 0.7755102 ],\n",
              "       [0.01639344, 0.39795918],\n",
              "       [0.01639344, 0.76530612],\n",
              "       [0.02459016, 0.05102041],\n",
              "       [0.02459016, 0.94897959],\n",
              "       [0.03278689, 0.02040816],\n",
              "       [0.03278689, 0.7244898 ],\n",
              "       [0.03278689, 0.13265306],\n",
              "       [0.03278689, 1.        ],\n",
              "       [0.04098361, 0.14285714],\n",
              "       [0.04098361, 0.7755102 ],\n",
              "       [0.04098361, 0.12244898],\n",
              "       [0.04098361, 0.79591837],\n",
              "       [0.04918033, 0.34693878],\n",
              "       [0.04918033, 0.66326531],\n",
              "       [0.06557377, 0.28571429],\n",
              "       [0.06557377, 0.98979592],\n",
              "       [0.07377049, 0.34693878],\n",
              "       [0.07377049, 0.73469388],\n",
              "       [0.08196721, 0.04081633],\n",
              "       [0.08196721, 0.73469388],\n",
              "       [0.10655738, 0.13265306],\n",
              "       [0.10655738, 0.82653061],\n",
              "       [0.10655738, 0.31632653],\n",
              "       [0.10655738, 0.6122449 ],\n",
              "       [0.1147541 , 0.30612245],\n",
              "       [0.1147541 , 0.87755102],\n",
              "       [0.12295082, 0.03061224],\n",
              "       [0.12295082, 0.73469388],\n",
              "       [0.14754098, 0.03061224],\n",
              "       [0.14754098, 0.92857143],\n",
              "       [0.14754098, 0.13265306],\n",
              "       [0.14754098, 0.81632653],\n",
              "       [0.1557377 , 0.16326531],\n",
              "       [0.1557377 , 0.73469388],\n",
              "       [0.18032787, 0.25510204],\n",
              "       [0.18032787, 0.75510204],\n",
              "       [0.18852459, 0.34693878],\n",
              "       [0.18852459, 0.92857143],\n",
              "       [0.19672131, 0.35714286],\n",
              "       [0.19672131, 0.6122449 ],\n",
              "       [0.19672131, 0.2755102 ],\n",
              "       [0.19672131, 0.65306122],\n",
              "       [0.20491803, 0.55102041],\n",
              "       [0.20491803, 0.46938776],\n",
              "       [0.20491803, 0.41836735],\n",
              "       [0.20491803, 0.41836735],\n",
              "       [0.22131148, 0.52040816],\n",
              "       [0.22131148, 0.60204082],\n",
              "       [0.2295082 , 0.54081633],\n",
              "       [0.2295082 , 0.60204082],\n",
              "       [0.2295082 , 0.44897959],\n",
              "       [0.2295082 , 0.40816327],\n",
              "       [0.23770492, 0.5       ],\n",
              "       [0.23770492, 0.45918367],\n",
              "       [0.25409836, 0.51020408],\n",
              "       [0.25409836, 0.45918367],\n",
              "       [0.25409836, 0.56122449],\n",
              "       [0.25409836, 0.55102041],\n",
              "       [0.26229508, 0.52040816],\n",
              "       [0.26229508, 0.59183673],\n",
              "       [0.2704918 , 0.51020408],\n",
              "       [0.2704918 , 0.59183673],\n",
              "       [0.2704918 , 0.5       ],\n",
              "       [0.2704918 , 0.47959184],\n",
              "       [0.2704918 , 0.59183673],\n",
              "       [0.2704918 , 0.46938776],\n",
              "       [0.27868852, 0.55102041],\n",
              "       [0.27868852, 0.41836735],\n",
              "       [0.28688525, 0.48979592],\n",
              "       [0.28688525, 0.56122449],\n",
              "       [0.31967213, 0.46938776],\n",
              "       [0.31967213, 0.54081633],\n",
              "       [0.31967213, 0.53061224],\n",
              "       [0.31967213, 0.47959184],\n",
              "       [0.31967213, 0.52040816],\n",
              "       [0.31967213, 0.41836735],\n",
              "       [0.31967213, 0.51020408],\n",
              "       [0.31967213, 0.55102041],\n",
              "       [0.31967213, 0.40816327],\n",
              "       [0.31967213, 0.43877551],\n",
              "       [0.31967213, 0.57142857],\n",
              "       [0.31967213, 0.45918367],\n",
              "       [0.3442623 , 0.58163265],\n",
              "       [0.3442623 , 0.55102041],\n",
              "       [0.35245902, 0.60204082],\n",
              "       [0.35245902, 0.45918367],\n",
              "       [0.36065574, 0.55102041],\n",
              "       [0.36065574, 0.40816327],\n",
              "       [0.36885246, 0.48979592],\n",
              "       [0.36885246, 0.39795918],\n",
              "       [0.36885246, 0.41836735],\n",
              "       [0.36885246, 0.52040816],\n",
              "       [0.36885246, 0.46938776],\n",
              "       [0.36885246, 0.5       ],\n",
              "       [0.37704918, 0.41836735],\n",
              "       [0.37704918, 0.48979592],\n",
              "       [0.3852459 , 0.40816327],\n",
              "       [0.3852459 , 0.47959184],\n",
              "       [0.3852459 , 0.59183673],\n",
              "       [0.3852459 , 0.55102041],\n",
              "       [0.3852459 , 0.56122449],\n",
              "       [0.3852459 , 0.41836735],\n",
              "       [0.39344262, 0.5       ],\n",
              "       [0.39344262, 0.45918367],\n",
              "       [0.39344262, 0.42857143],\n",
              "       [0.39344262, 0.47959184],\n",
              "       [0.39344262, 0.52040816],\n",
              "       [0.39344262, 0.54081633],\n",
              "       [0.40163934, 0.41836735],\n",
              "       [0.40163934, 0.45918367],\n",
              "       [0.40983607, 0.47959184],\n",
              "       [0.40983607, 0.5       ],\n",
              "       [0.40983607, 0.42857143],\n",
              "       [0.40983607, 0.59183673],\n",
              "       [0.42622951, 0.42857143],\n",
              "       [0.42622951, 0.57142857],\n",
              "       [0.42622951, 0.56122449],\n",
              "       [0.42622951, 0.39795918],\n",
              "       [0.44262295, 0.58163265],\n",
              "       [0.44262295, 0.91836735],\n",
              "       [0.45081967, 0.28571429],\n",
              "       [0.45081967, 0.7755102 ],\n",
              "       [0.45901639, 0.34693878],\n",
              "       [0.45901639, 0.95918367],\n",
              "       [0.45901639, 0.10204082],\n",
              "       [0.45901639, 0.75510204],\n",
              "       [0.45901639, 0.08163265],\n",
              "       [0.45901639, 0.75510204],\n",
              "       [0.46721311, 0.33673469],\n",
              "       [0.46721311, 0.71428571],\n",
              "       [0.47540984, 0.04081633],\n",
              "       [0.47540984, 0.8877551 ],\n",
              "       [0.47540984, 0.06122449],\n",
              "       [0.47540984, 0.73469388],\n",
              "       [0.48360656, 0.09183673],\n",
              "       [0.48360656, 0.7244898 ],\n",
              "       [0.49180328, 0.04081633],\n",
              "       [0.49180328, 0.93877551],\n",
              "       [0.5       , 0.39795918],\n",
              "       [0.5       , 0.87755102],\n",
              "       [0.50819672, 0.1122449 ],\n",
              "       [0.50819672, 0.97959184],\n",
              "       [0.50819672, 0.35714286],\n",
              "       [0.50819672, 0.74489796],\n",
              "       [0.51639344, 0.21428571],\n",
              "       [0.51639344, 0.90816327],\n",
              "       [0.51639344, 0.16326531],\n",
              "       [0.51639344, 0.8877551 ],\n",
              "       [0.51639344, 0.19387755],\n",
              "       [0.51639344, 0.76530612],\n",
              "       [0.51639344, 0.15306122],\n",
              "       [0.51639344, 0.89795918],\n",
              "       [0.51639344, 0.        ],\n",
              "       [0.51639344, 0.78571429],\n",
              "       [0.51639344, 0.        ],\n",
              "       [0.51639344, 0.73469388],\n",
              "       [0.52459016, 0.34693878],\n",
              "       [0.52459016, 0.83673469],\n",
              "       [0.54098361, 0.04081633],\n",
              "       [0.54098361, 0.93877551],\n",
              "       [0.57377049, 0.25510204],\n",
              "       [0.57377049, 0.75510204],\n",
              "       [0.58196721, 0.19387755],\n",
              "       [0.58196721, 0.95918367],\n",
              "       [0.59016393, 0.26530612],\n",
              "       [0.59016393, 0.63265306],\n",
              "       [0.59016393, 0.12244898],\n",
              "       [0.59016393, 0.75510204],\n",
              "       [0.59016393, 0.09183673],\n",
              "       [0.59016393, 0.92857143],\n",
              "       [0.59836066, 0.12244898],\n",
              "       [0.59836066, 0.86734694],\n",
              "       [0.59836066, 0.14285714],\n",
              "       [0.59836066, 0.69387755],\n",
              "       [0.63934426, 0.13265306],\n",
              "       [0.63934426, 0.90816327],\n",
              "       [0.67213115, 0.31632653],\n",
              "       [0.67213115, 0.86734694],\n",
              "       [0.68032787, 0.14285714],\n",
              "       [0.68032787, 0.8877551 ],\n",
              "       [0.68852459, 0.3877551 ],\n",
              "       [0.68852459, 0.97959184],\n",
              "       [0.70491803, 0.23469388],\n",
              "       [0.70491803, 0.68367347],\n",
              "       [0.72131148, 0.16326531],\n",
              "       [0.72131148, 0.85714286],\n",
              "       [0.72131148, 0.2244898 ],\n",
              "       [0.72131148, 0.69387755],\n",
              "       [0.80327869, 0.07142857],\n",
              "       [0.80327869, 0.91836735],\n",
              "       [0.86065574, 0.15306122],\n",
              "       [0.86065574, 0.79591837],\n",
              "       [0.90983607, 0.2755102 ],\n",
              "       [0.90983607, 0.74489796],\n",
              "       [1.        , 0.17346939],\n",
              "       [1.        , 0.83673469]])"
            ]
          },
          "metadata": {},
          "execution_count": 19
        }
      ]
    },
    {
      "cell_type": "markdown",
      "source": [
        "The output shows the transformed numbers of our variables Annual Income (k$) and Spending Score. All the values are between 0 and 1. There are no negative values and no number is greater than 1."
      ],
      "metadata": {
        "id": "yUlSuBNx6fRQ"
      }
    },
    {
      "cell_type": "markdown",
      "source": [
        "## Choosing the Optimum Number of Clusters"
      ],
      "metadata": {
        "id": "qJUB_UgR69yD"
      }
    },
    {
      "cell_type": "markdown",
      "source": [
        "a) To find the optimum number of clusters we'd used the WCSS (Within Clusters Sums of Squares)\n",
        "\n",
        "b)Plot an Elbow graph. "
      ],
      "metadata": {
        "id": "rKOZVkuP8hC0"
      }
    },
    {
      "cell_type": "markdown",
      "source": [
        "### Note: We create a for loop and find the wcss value for when we condisder one cluster and then two clusters up to 10. And then find the minimum wcss value"
      ],
      "metadata": {
        "id": "gAAxkl94Cpdk"
      }
    },
    {
      "cell_type": "code",
      "source": [
        "wcss = []\n",
        "\n",
        "for i in range(1,11):\n",
        "    kmeans= KMeans(n_clusters = i, init = 'k-means++')\n",
        "    kmeans.fit(X) #Finds the Kmeans to our data\n",
        "    wcss.append(kmeans.inertia_) #This gives us the wcss values for each clusters"
      ],
      "metadata": {
        "id": "c93krHXT8xQW"
      },
      "execution_count": null,
      "outputs": []
    },
    {
      "cell_type": "markdown",
      "source": [
        "## b) Plot an elbow graph"
      ],
      "metadata": {
        "id": "dPBXTV4W9VmS"
      }
    },
    {
      "cell_type": "markdown",
      "source": [
        "The Elbow method is a really common method as well as the concept would be to perform k-means clustering for a range of k clusters (let's say 1 to 10) and to measure the sum of square distances from each point to its assigned center for each value."
      ],
      "metadata": {
        "id": "C4TvBBLCAApu"
      }
    },
    {
      "cell_type": "code",
      "source": [
        "plt.figure(figsize = (12,6))\n",
        "plt.grid()\n",
        "plt.plot(range(1,11),wcss, color='green', linestyle='dashed', linewidth = 3,\n",
        "         marker='o', markerfacecolor='blue', markersize=12)\n",
        "plt.title('The Elbow Point Graph')\n",
        "plt.xlabel('Number of Clusters')\n",
        "plt.ylabel('WCSS')\n",
        "plt.show"
      ],
      "metadata": {
        "colab": {
          "base_uri": "https://localhost:8080/",
          "height": 422
        },
        "id": "LVB3wm0K_zOa",
        "outputId": "00c100f0-3357-4193-9f34-a0ed35ae6667"
      },
      "execution_count": null,
      "outputs": [
        {
          "output_type": "execute_result",
          "data": {
            "text/plain": [
              "<function matplotlib.pyplot.show>"
            ]
          },
          "metadata": {},
          "execution_count": 21
        },
        {
          "output_type": "display_data",
          "data": {
            "text/plain": [
              "<Figure size 864x432 with 1 Axes>"
            ],
            "image/png": "[encoded data removed]"
          },
          "metadata": {}
        }
      ]
    },
    {
      "cell_type": "markdown",
      "source": [
        "From the above graph one can see that from number of cluster = 4 to number of cluster = 5 there has been substantial decrease hence, I have chosen the K value for our dataset as 5."
      ],
      "metadata": {
        "id": "17XSiLLVC6ub"
      }
    },
    {
      "cell_type": "markdown",
      "source": [
        "## Train the K-Means Clustering Model"
      ],
      "metadata": {
        "id": "968rArtQEB4V"
      }
    },
    {
      "cell_type": "code",
      "source": [
        "kmeans= KMeans(n_clusters = 5, init = 'k-means++') #initialize the class object\n",
        "label= kmeans.fit_predict(X) #returns a cluster number for each of the data points\n",
        "print(label)"
      ],
      "metadata": {
        "colab": {
          "base_uri": "https://localhost:8080/"
        },
        "id": "HGXuOoE4EH6X",
        "outputId": "e63b1964-f0c7-443d-9370-85fe73a72f74"
      },
      "execution_count": null,
      "outputs": [
        {
          "output_type": "stream",
          "name": "stdout",
          "text": [
            "[4 0 4 0 4 0 4 0 4 0 4 0 4 0 4 0 4 0 4 0 4 0 4 0 4 0 4 0 4 0 4 0 4 0 4 0 4\n",
            " 0 4 0 4 0 4 1 4 0 1 1 1 1 1 1 1 1 1 1 1 1 1 1 1 1 1 1 1 1 1 1 1 1 1 1 1 1\n",
            " 1 1 1 1 1 1 1 1 1 1 1 1 1 1 1 1 1 1 1 1 1 1 1 1 1 1 1 1 1 1 1 1 1 1 1 1 1\n",
            " 1 1 1 1 1 1 1 1 1 1 1 1 2 3 2 1 2 3 2 3 2 1 2 3 2 3 2 3 2 3 2 1 2 3 2 3 2\n",
            " 3 2 3 2 3 2 3 2 3 2 3 2 3 2 3 2 3 2 3 2 3 2 3 2 3 2 3 2 3 2 3 2 3 2 3 2 3\n",
            " 2 3 2 3 2 3 2 3 2 3 2 3 2 3 2]\n"
          ]
        }
      ]
    },
    {
      "cell_type": "markdown",
      "source": [
        "There will be only five values because we have stated from our model above that we need only 5 clusters. All the data points with 0 is 1 cluster and 4 is 5 cluster"
      ],
      "metadata": {
        "id": "-ZHb5L8sGuVi"
      }
    },
    {
      "cell_type": "markdown",
      "source": [
        "### Cheking the centers of out clusters (Also known as Centriods)"
      ],
      "metadata": {
        "id": "7OnZqvh6dgvk"
      }
    },
    {
      "cell_type": "code",
      "source": [
        "print(kmeans.cluster_centers_)"
      ],
      "metadata": {
        "colab": {
          "base_uri": "https://localhost:8080/"
        },
        "id": "XZh6hgDedtJ4",
        "outputId": "494b4fc1-6a43-4f41-8d8d-720472ccceca"
      },
      "execution_count": null,
      "outputs": [
        {
          "output_type": "stream",
          "name": "stdout",
          "text": [
            "[[25.72727273 79.36363636]\n",
            " [55.2962963  49.51851852]\n",
            " [86.53846154 82.12820513]\n",
            " [88.2        17.11428571]\n",
            " [26.30434783 20.91304348]]\n"
          ]
        }
      ]
    },
    {
      "cell_type": "markdown",
      "source": [
        "The above output are the X and Y centriod coordinates of all the clusters that have been created."
      ],
      "metadata": {
        "id": "aqEUaK6Mw9l-"
      }
    },
    {
      "cell_type": "markdown",
      "source": [
        "# Visualizing all the clusters"
      ],
      "metadata": {
        "id": "UvyUpTiapkqj"
      }
    },
    {
      "cell_type": "code",
      "source": [
        "plt.figure(figsize=(8,8))\n",
        "plt.scatter(X[label == 0,0], X[label== 0,1], s=50, c='green', label='Cluster 1')\n",
        "plt.scatter(X[label == 1,0], X[label== 1,1], s=50, c='yellow', label='Cluster 2')\n",
        "plt.scatter(X[label == 2,0], X[label== 2,1], s=50, c='red', label='Cluster 3')\n",
        "plt.scatter(X[label == 3,0], X[label== 3,1], s=50, c='purple', label='Cluster 4')\n",
        "plt.scatter(X[label == 4,0], X[label== 4,1], s=50, c='blue', label='Cluster 5')\n",
        "plt.scatter(kmeans.cluster_centers_ [:,0], kmeans.cluster_centers_ [:,1], s= 100, c='black', marker= '*', label='Centriods') #Plotting the centriods\n",
        "plt.title('Customer groups')\n",
        "plt.xlabel('Annual Income')\n",
        "plt.ylabel('Spending Score (1-100)')\n",
        "plt.legend()\n",
        "plt.show()  "
      ],
      "metadata": {
        "colab": {
          "base_uri": "https://localhost:8080/",
          "height": 513
        },
        "id": "pocq5kCAung5",
        "outputId": "356a86ca-470d-4970-d48f-1727cc06c8f9"
      },
      "execution_count": null,
      "outputs": [
        {
          "output_type": "display_data",
          "data": {
            "text/plain": [
              "<Figure size 576x576 with 1 Axes>"
            ],
            "image/png": "[encoded data removed]"
          },
          "metadata": {}
        }
      ]
    },
    {
      "cell_type": "markdown",
      "source": [
        ""
      ],
      "metadata": {
        "id": "IbfMEAqUHOUa"
      }
    },
    {
      "cell_type": "markdown",
      "source": [
        "# Business Insights\n",
        "\n",
        "The result of the analysis shows that the retail store customers can be group into 5 clusters or segments for targeted marketing.\n",
        "\n",
        "**Cluster 1 (green)**: These are low income earning customers with high spending scores. I can assume that why this group of customers spend more at the retail store despite earning less is because they enjoy and are satisfied with the services rendered at the retail store.\n",
        "\n",
        "**Cluster 2 (yellow):** These are average income earners with average spending scores. They are cautious with their spending at the store.\n",
        "\n",
        "**CLuster 3 (red):** The customers in this group are high income earners and with high spending scores. They bring in profit. Discounts and other offers targeted at this group will increase their spending score and maximize profit.\n",
        "\n",
        "**Cluster 4 (blue):** Low income earners with low spending score. I can assume that this is so because people with low income will tend to purchase less item at the store.\n",
        "\n",
        "**Cluster 5 (purple):** This group of cutomers have a higher income but they do not spend more at the store. One of the assuption could be that they are not satisfied with the services rendered at the store. They are another ideal group to be targeted by the marketing team becuase they have the potential to bring in increased profit for the store. "
      ],
      "metadata": {
        "id": "x97w6ZWVZA5R"
      }
    },
    {
      "cell_type": "markdown",
      "source": [
        ""
      ],
      "metadata": {
        "id": "9l0PeEWSZFRI"
      }
    },
    {
      "cell_type": "code",
      "source": [
        ""
      ],
      "metadata": {
        "id": "LP1BCPOfhRKH"
      },
      "execution_count": null,
      "outputs": []
    }
  ]
}